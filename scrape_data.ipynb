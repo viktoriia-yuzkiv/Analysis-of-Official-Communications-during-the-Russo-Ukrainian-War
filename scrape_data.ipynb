{
 "cells": [
  {
   "cell_type": "markdown",
   "id": "15eda0e7",
   "metadata": {},
   "source": [
    "# Introduction to the Data Scraping Notebook"
   ]
  },
  {
   "cell_type": "markdown",
   "id": "87381048",
   "metadata": {},
   "source": [
    "In this data scraping notebook, our objective is to gather relevant information from two key sources – The White House and The European Commission. By systematically collecting and processing data, we aim to provide valuable insights into the nature of their support, potential differences in rhetoric, and the impact of President Zelenskiy's visits.\n",
    "\n",
    "The notebook includes pipelines for scraping the data from The White House and The European Commission. The scraping classes are implemented in a scr/scraper.py file."
   ]
  },
  {
   "cell_type": "markdown",
   "id": "f728c5d7",
   "metadata": {},
   "source": [
    "# Set Up Environment"
   ]
  },
  {
   "cell_type": "markdown",
   "id": "8b78d4a1",
   "metadata": {},
   "source": [
    "## Import necessary libraries"
   ]
  },
  {
   "cell_type": "code",
   "execution_count": 11,
   "id": "2268afa8",
   "metadata": {},
   "outputs": [],
   "source": [
    "import pandas as pd\n",
    "\n",
    "import src.scraper as s"
   ]
  },
  {
   "cell_type": "markdown",
   "id": "520acff8",
   "metadata": {},
   "source": [
    "# Scrape The White House Data"
   ]
  },
  {
   "cell_type": "markdown",
   "id": "66de53e2",
   "metadata": {},
   "source": [
    "In this section, we retrieve data from The White House, focusing on President Biden's administration. This includes parsing official statements, speeches, and documents. \n",
    "\n",
    "The data from The White House will be crucial in understanding the United States' stance and support for Ukraine, particularly in the context of President Zelenskiy's visits. It forms a foundational component of our comparative analysis with The European Commission."
   ]
  },
  {
   "cell_type": "markdown",
   "id": "386d68d9",
   "metadata": {},
   "source": [
    "## Scraping Pipeline"
   ]
  },
  {
   "cell_type": "code",
   "execution_count": 18,
   "id": "05d9dcc3",
   "metadata": {},
   "outputs": [
    {
     "name": "stdout",
     "output_type": "stream",
     "text": [
      "https://www.whitehouse.gov/briefing-room/speeches-remarks/\n",
      "Total number of pages: 202\n",
      "10% completed - 20/202\n",
      "20% completed - 40/202\n",
      "30% completed - 60/202\n",
      "40% completed - 80/202\n",
      "50% completed - 100/202\n",
      "59% completed - 120/202\n",
      "69% completed - 140/202\n",
      "79% completed - 160/202\n",
      "89% completed - 180/202\n",
      "99% completed - 200/202\n",
      "\n",
      "Scraping completed.\n"
     ]
    }
   ],
   "source": [
    "# Initialize an empty dataframe to store the results\n",
    "articles_df = pd.DataFrame(columns=['Title', 'Date', 'Category', 'Location', 'Text'])\n",
    "\n",
    "# List of categories to be scraped\n",
    "links = ['https://www.whitehouse.gov/briefing-room/speeches-remarks/']\n",
    "\n",
    "# Iterate through all categories\n",
    "for link in links:\n",
    "    # Initialize the scraping class\n",
    "    scraper = s.TheWhiteHouseScraper(url=link)\n",
    "    soup = scraper.get_html_content()\n",
    "    \n",
    "    # Get the total number of pages\n",
    "    page_num = scraper.get_page_num(soup)\n",
    "    print(link)\n",
    "    print(f'Total number of pages: {page_num}')\n",
    "\n",
    "    # Get articles from each page\n",
    "    for i in range(1, page_num+1):\n",
    "        page_link = f'{link}page/{i}/'\n",
    "        page_scraper = s.TheWhiteHouseScraper(url=page_link)\n",
    "        page_soup = page_scraper.get_html_content()\n",
    "        \n",
    "        # Add articles to a dataframe\n",
    "        df_temp = pd.DataFrame(page_scraper.get_articles(page_soup))\n",
    "        articles_df = pd.concat([articles_df, df_temp], ignore_index=True)\n",
    "\n",
    "        # Print progress every 10%\n",
    "        if i % (page_num // 10) == 0:\n",
    "            progress_percent = (i / page_num) * 100\n",
    "            print(f'{progress_percent:.0f}% completed - {i}/{page_num}')\n",
    "    print()\n",
    "\n",
    "print(\"Scraping completed.\")"
   ]
  },
  {
   "cell_type": "code",
   "execution_count": 20,
   "id": "bc86d778",
   "metadata": {},
   "outputs": [
    {
     "data": {
      "text/html": [
       "<div>\n",
       "<style scoped>\n",
       "    .dataframe tbody tr th:only-of-type {\n",
       "        vertical-align: middle;\n",
       "    }\n",
       "\n",
       "    .dataframe tbody tr th {\n",
       "        vertical-align: top;\n",
       "    }\n",
       "\n",
       "    .dataframe thead th {\n",
       "        text-align: right;\n",
       "    }\n",
       "</style>\n",
       "<table border=\"1\" class=\"dataframe\">\n",
       "  <thead>\n",
       "    <tr style=\"text-align: right;\">\n",
       "      <th></th>\n",
       "      <th>Title</th>\n",
       "      <th>Date</th>\n",
       "      <th>Category</th>\n",
       "      <th>Location</th>\n",
       "      <th>Text</th>\n",
       "    </tr>\n",
       "  </thead>\n",
       "  <tbody>\n",
       "    <tr>\n",
       "      <th>0</th>\n",
       "      <td>Remarks by President Biden at a Political Even...</td>\n",
       "      <td>2024-02-01T20:24:19-05:00</td>\n",
       "      <td>Speeches and Remarks</td>\n",
       "      <td>Region 1 Union Hall; Warren, Michigan</td>\n",
       "      <td>4:41 P.M. EST\\n \\nTHE PRESIDENT:  Well, thank ...</td>\n",
       "    </tr>\n",
       "    <tr>\n",
       "      <th>1</th>\n",
       "      <td>Remarks by President Biden at the National Pra...</td>\n",
       "      <td>2024-02-01T14:13:03-05:00</td>\n",
       "      <td>Speeches and Remarks</td>\n",
       "      <td>U.S. Capitol; Washington, D.C.</td>\n",
       "      <td>9:04 A.M. EST\\nTHE PRESIDENT:  Frank, thank yo...</td>\n",
       "    </tr>\n",
       "    <tr>\n",
       "      <th>2</th>\n",
       "      <td>Remarks by President Biden at a Campaign Recep...</td>\n",
       "      <td>2024-01-31T00:04:32-05:00</td>\n",
       "      <td>Speeches and Remarks</td>\n",
       "      <td>Private Residence; Miami, Florida</td>\n",
       "      <td>6:27 P.M. EST\\n\\nTHE PRESIDENT: Well, Chris, t...</td>\n",
       "    </tr>\n",
       "    <tr>\n",
       "      <th>3</th>\n",
       "      <td>Remarks and Q&amp;A by National Security Advisor J...</td>\n",
       "      <td>2024-01-30T22:00:00-05:00</td>\n",
       "      <td>Speeches and Remarks</td>\n",
       "      <td>Council on Foreign Relations; Washington, D.C.</td>\n",
       "      <td>MR. SULLIVAN:  At least I had the bravery to g...</td>\n",
       "    </tr>\n",
       "    <tr>\n",
       "      <th>4</th>\n",
       "      <td>Remarks as Prepared for Delivery by First Lady...</td>\n",
       "      <td>2024-01-30T20:52:50-05:00</td>\n",
       "      <td>Speeches and Remarks</td>\n",
       "      <td>The White House</td>\n",
       "      <td>Brian and Sandra, it’s an honor for Joe and me...</td>\n",
       "    </tr>\n",
       "  </tbody>\n",
       "</table>\n",
       "</div>"
      ],
      "text/plain": [
       "                                               Title  \\\n",
       "0  Remarks by President Biden at a Political Even...   \n",
       "1  Remarks by President Biden at the National Pra...   \n",
       "2  Remarks by President Biden at a Campaign Recep...   \n",
       "3  Remarks and Q&A by National Security Advisor J...   \n",
       "4  Remarks as Prepared for Delivery by First Lady...   \n",
       "\n",
       "                        Date              Category  \\\n",
       "0  2024-02-01T20:24:19-05:00  Speeches and Remarks   \n",
       "1  2024-02-01T14:13:03-05:00  Speeches and Remarks   \n",
       "2  2024-01-31T00:04:32-05:00  Speeches and Remarks   \n",
       "3  2024-01-30T22:00:00-05:00  Speeches and Remarks   \n",
       "4  2024-01-30T20:52:50-05:00  Speeches and Remarks   \n",
       "\n",
       "                                         Location  \\\n",
       "0           Region 1 Union Hall; Warren, Michigan   \n",
       "1                  U.S. Capitol; Washington, D.C.   \n",
       "2               Private Residence; Miami, Florida   \n",
       "3  Council on Foreign Relations; Washington, D.C.   \n",
       "4                                 The White House   \n",
       "\n",
       "                                                Text  \n",
       "0  4:41 P.M. EST\\n \\nTHE PRESIDENT:  Well, thank ...  \n",
       "1  9:04 A.M. EST\\nTHE PRESIDENT:  Frank, thank yo...  \n",
       "2  6:27 P.M. EST\\n\\nTHE PRESIDENT: Well, Chris, t...  \n",
       "3  MR. SULLIVAN:  At least I had the bravery to g...  \n",
       "4  Brian and Sandra, it’s an honor for Joe and me...  "
      ]
     },
     "execution_count": 20,
     "metadata": {},
     "output_type": "execute_result"
    }
   ],
   "source": [
    "articles_df.head()"
   ]
  },
  {
   "cell_type": "code",
   "execution_count": 24,
   "id": "0dc49208",
   "metadata": {},
   "outputs": [
    {
     "data": {
      "text/plain": [
       "False"
      ]
     },
     "execution_count": 24,
     "metadata": {},
     "output_type": "execute_result"
    }
   ],
   "source": [
    "# Check if there are any missing values in the dataframe\n",
    "articles_df.isnull().values.any()"
   ]
  },
  {
   "cell_type": "markdown",
   "id": "6454b485",
   "metadata": {},
   "source": [
    "No missing values, the data is fine."
   ]
  },
  {
   "cell_type": "code",
   "execution_count": 25,
   "id": "4c4dd459",
   "metadata": {},
   "outputs": [],
   "source": [
    "# Save to csv\n",
    "articles_df.to_csv('data/thewhitehouse.csv', index=False)"
   ]
  },
  {
   "cell_type": "markdown",
   "id": "447d38f9",
   "metadata": {},
   "source": [
    "# Scrape The European Commission Data"
   ]
  },
  {
   "cell_type": "markdown",
   "id": "27429bb1",
   "metadata": {},
   "source": [
    "In this phase, our focus shifts to collecting data from The European Commission, which plays a significant role in the European Union's policies and actions.\n",
    "\n",
    "We specifically are going to focus on the speeches and remarks of Ursula von der Leyen, the current President of the European Commission. The data collected will offer insights into the European Commission's stance and support for Ukraine."
   ]
  },
  {
   "cell_type": "code",
   "execution_count": null,
   "id": "d52d2956",
   "metadata": {},
   "outputs": [],
   "source": [
    "# Under development"
   ]
  },
  {
   "cell_type": "code",
   "execution_count": null,
   "id": "89bd40dd",
   "metadata": {},
   "outputs": [],
   "source": []
  }
 ],
 "metadata": {
  "kernelspec": {
   "display_name": "Python 3 (ipykernel)",
   "language": "python",
   "name": "python3"
  },
  "language_info": {
   "codemirror_mode": {
    "name": "ipython",
    "version": 3
   },
   "file_extension": ".py",
   "mimetype": "text/x-python",
   "name": "python",
   "nbconvert_exporter": "python",
   "pygments_lexer": "ipython3",
   "version": "3.11.4"
  }
 },
 "nbformat": 4,
 "nbformat_minor": 5
}
